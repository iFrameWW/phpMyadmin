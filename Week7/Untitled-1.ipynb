{
 "cells": [
  {
   "cell_type": "code",
   "execution_count": null,
   "metadata": {},
   "outputs": [],
   "source": [
    "!python -m pip"
   ]
  },
  {
   "cell_type": "code",
   "execution_count": 1,
   "metadata": {},
   "outputs": [
    {
     "name": "stdout",
     "output_type": "stream",
     "text": [
      "Requirement already satisfied: Flask in d:\\python\\399\\lib\\site-packages (2.2.2)\n",
      "Requirement already satisfied: werkzeug in d:\\python\\399\\lib\\site-packages (2.2.2)\n",
      "Requirement already satisfied: mysql-connector-python in d:\\python\\399\\lib\\site-packages (8.0.30)\n",
      "Requirement already satisfied: itsdangerous>=2.0 in d:\\python\\399\\lib\\site-packages (from Flask) (2.1.2)\n",
      "Requirement already satisfied: Jinja2>=3.0 in d:\\python\\399\\lib\\site-packages (from Flask) (3.1.2)\n",
      "Requirement already satisfied: importlib-metadata>=3.6.0 in d:\\python\\399\\lib\\site-packages (from Flask) (4.12.0)\n",
      "Requirement already satisfied: click>=8.0 in d:\\python\\399\\lib\\site-packages (from Flask) (8.0.4)\n",
      "Requirement already satisfied: MarkupSafe>=2.1.1 in d:\\python\\399\\lib\\site-packages (from werkzeug) (2.1.1)\n",
      "Requirement already satisfied: protobuf<=3.20.1,>=3.11.0 in d:\\python\\399\\lib\\site-packages (from mysql-connector-python) (3.20.1)\n",
      "Requirement already satisfied: colorama in d:\\python\\399\\lib\\site-packages (from click>=8.0->Flask) (0.4.4)\n",
      "Requirement already satisfied: zipp>=0.5 in d:\\python\\399\\lib\\site-packages (from importlib-metadata>=3.6.0->Flask) (3.8.1)\n"
     ]
    },
    {
     "name": "stderr",
     "output_type": "stream",
     "text": [
      "WARNING: Ignoring invalid distribution -ip (d:\\python\\399\\lib\\site-packages)\n",
      "WARNING: Ignoring invalid distribution -ip (d:\\python\\399\\lib\\site-packages)\n",
      "WARNING: Ignoring invalid distribution -ip (d:\\python\\399\\lib\\site-packages)\n",
      "WARNING: Ignoring invalid distribution -ip (d:\\python\\399\\lib\\site-packages)\n",
      "WARNING: Ignoring invalid distribution -ip (d:\\python\\399\\lib\\site-packages)\n",
      "WARNING: Ignoring invalid distribution -ip (d:\\python\\399\\lib\\site-packages)\n"
     ]
    }
   ],
   "source": [
    "pip install Flask werkzeug mysql-connector-python --upgrade"
   ]
  },
  {
   "cell_type": "code",
   "execution_count": null,
   "metadata": {},
   "outputs": [],
   "source": [
    "!python -m pip install flask-cors --upgrade"
   ]
  },
  {
   "cell_type": "code",
   "execution_count": null,
   "metadata": {},
   "outputs": [],
   "source": [
    "!python -m pip install --upgrade pip"
   ]
  }
 ],
 "metadata": {
  "kernelspec": {
   "display_name": "Python 3.9.10 64-bit",
   "language": "python",
   "name": "python3"
  },
  "language_info": {
   "codemirror_mode": {
    "name": "ipython",
    "version": 3
   },
   "file_extension": ".py",
   "mimetype": "text/x-python",
   "name": "python",
   "nbconvert_exporter": "python",
   "pygments_lexer": "ipython3",
   "version": "3.9.10"
  },
  "orig_nbformat": 4,
  "vscode": {
   "interpreter": {
    "hash": "ad1db24ffa1efd05e0fde90a8e5ada7b6b72ed1c932cfa9b27680b3adc8031e3"
   }
  }
 },
 "nbformat": 4,
 "nbformat_minor": 2
}
